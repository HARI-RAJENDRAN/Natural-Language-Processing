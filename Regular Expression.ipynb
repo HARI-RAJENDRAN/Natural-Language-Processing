{
 "cells": [
  {
   "cell_type": "code",
   "execution_count": 1,
   "id": "42d23cef-89fb-45dc-8851-7d7e35ee2b26",
   "metadata": {},
   "outputs": [],
   "source": [
    "import re\n",
    "import warnings"
   ]
  },
  {
   "cell_type": "code",
   "execution_count": 3,
   "id": "2afb49da-554e-41c7-9635-b535055dd87c",
   "metadata": {},
   "outputs": [],
   "source": [
    "warnings.simplefilter(\"ignore\") "
   ]
  },
  {
   "cell_type": "code",
   "execution_count": 5,
   "id": "9468de0b-e9b3-45d4-8c66-728bd42508b4",
   "metadata": {},
   "outputs": [],
   "source": [
    "text_1 = \"hi my mobile Number is 1234567890\"\n",
    "text_2 = \"this is my gmail Example123@gmail.com\""
   ]
  },
  {
   "cell_type": "code",
   "execution_count": 7,
   "id": "28a89de1-8e1d-43e6-96e5-68b5931d093b",
   "metadata": {},
   "outputs": [],
   "source": [
    "pattern_for_Ph = '\\d{10}'\n",
    "pattern_for_email = '[a-z0-9A-Z]*@[a-zA-Z]*\\.[a-zA-Z]*'"
   ]
  },
  {
   "cell_type": "code",
   "execution_count": 9,
   "id": "746e50b5-47b0-40fe-ae2b-4517e37271c8",
   "metadata": {},
   "outputs": [],
   "source": [
    "extract_num = re.findall(pattern_for_Ph,text_1)\n",
    "extract_email = re.findall(pattern_for_email,text_2)"
   ]
  },
  {
   "cell_type": "code",
   "execution_count": 11,
   "id": "440ac82e-1808-4196-a546-988885ada596",
   "metadata": {},
   "outputs": [
    {
     "name": "stdout",
     "output_type": "stream",
     "text": [
      "['1234567890'] ['Example123@gmail.com']\n"
     ]
    }
   ],
   "source": [
    "print(extract_num,extract_email)"
   ]
  },
  {
   "cell_type": "code",
   "execution_count": 13,
   "id": "7802e539-3a5f-45ee-9d21-706584d0dbda",
   "metadata": {},
   "outputs": [],
   "source": [
    "data = '''\n",
    "Born\tRobert John Downey Jr.\n",
    "April 4, 1965 (age 60)\n",
    "New York City, U.S.\n",
    "Occupation\tActor\n",
    "Years active\t1970–present\n",
    "Works\tFilmography\n",
    "Spouses\t\n",
    "Deborah Falconer\n",
    "​\n",
    "​(m. 1992; div. 2004)​\n",
    "Susan Levin ​(m. 2005)​\n",
    "Partner\tSarah Jessica Parker (1984–1991)\n",
    "Children\t3\n",
    "Father\tRobert Downey Sr.\n",
    "Awards\tFull list\n",
    "'''"
   ]
  },
  {
   "cell_type": "code",
   "execution_count": 15,
   "id": "f7748af8-c3e7-47e5-af8e-6d1bfe958a35",
   "metadata": {},
   "outputs": [],
   "source": [
    "def pattern_function(pattern,data):\n",
    "    matches = re.findall(pattern,data)\n",
    "    if matches:\n",
    "        return matches[0]"
   ]
  },
  {
   "cell_type": "code",
   "execution_count": 17,
   "id": "fb9e54a6-355f-425f-8a0e-1090959b7a8c",
   "metadata": {},
   "outputs": [
    {
     "data": {
      "text/plain": [
       "'60'"
      ]
     },
     "execution_count": 17,
     "metadata": {},
     "output_type": "execute_result"
    }
   ],
   "source": [
    "pattern_function(\"age (\\d+)\",data)"
   ]
  },
  {
   "cell_type": "code",
   "execution_count": 97,
   "id": "93ad27e5-ea99-438f-b8e3-23f184f27c94",
   "metadata": {},
   "outputs": [],
   "source": [
    "def extract_from_data(data):\n",
    "    name = pattern_function('Born(.*)\\n',data)\n",
    "    age = pattern_function('age (\\d+)',data)\n",
    "    work = pattern_function('Occupation(.*)',data)\n",
    "    Father_name = pattern_function('Father(.*)',data)\n",
    "\n",
    "    return {\n",
    "        'Full Name':name.strip(),\n",
    "        'Age':int(age),\n",
    "        'Occupation':work,\n",
    "        'Father Name':Father_name.strip()\n",
    "    }"
   ]
  },
  {
   "cell_type": "code",
   "execution_count": 99,
   "id": "3ea60d37-de9e-4859-92af-1d3936459dfb",
   "metadata": {},
   "outputs": [
    {
     "data": {
      "text/plain": [
       "{'Full Name': 'Robert John Downey Jr.',\n",
       " 'Age': 60,\n",
       " 'Occupation': '\\tActor',\n",
       " 'Father Name': 'Robert Downey Sr.'}"
      ]
     },
     "execution_count": 99,
     "metadata": {},
     "output_type": "execute_result"
    }
   ],
   "source": [
    "extract_from_data(data)"
   ]
  },
  {
   "cell_type": "code",
   "execution_count": null,
   "id": "8a66d924-6e28-4b46-b91e-148efaf0f389",
   "metadata": {},
   "outputs": [],
   "source": []
  }
 ],
 "metadata": {
  "kernelspec": {
   "display_name": "Python 3 (ipykernel)",
   "language": "python",
   "name": "python3"
  },
  "language_info": {
   "codemirror_mode": {
    "name": "ipython",
    "version": 3
   },
   "file_extension": ".py",
   "mimetype": "text/x-python",
   "name": "python",
   "nbconvert_exporter": "python",
   "pygments_lexer": "ipython3",
   "version": "3.12.7"
  }
 },
 "nbformat": 4,
 "nbformat_minor": 5
}
